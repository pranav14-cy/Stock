{
 "cells": [
  {
   "cell_type": "code",
   "execution_count": 2,
   "id": "uniform-lawsuit",
   "metadata": {},
   "outputs": [],
   "source": [
    "import math\n",
    "import matplotlib.pyplot as plt\n",
    "import numpy as np\n",
    "import pandas as pd\n",
    "from keras.models import Sequential\n",
    "from keras.layers import Dense, LSTM, Dropout\n",
    "from sklearn.preprocessing import MinMaxScaler"
   ]
  },
  {
   "cell_type": "code",
   "execution_count": null,
   "id": "bored-verse",
   "metadata": {},
   "outputs": [],
   "source": [
    "df = pd.read_csv ('path of the file for stock data')"
   ]
  },
  {
   "cell_type": "code",
   "execution_count": null,
   "id": "sensitive-congo",
   "metadata": {},
   "outputs": [],
   "source": [
    "###READ IN 1245 ROWS OF DATA, OUTPUT COLUMN 6-7 IS OUTPUT since data file cosider here have 1245 rows\n",
    "output=df.iloc[0:1245:,6:7].values\n",
    "output=np.array(output)\n",
    "###READ IN 1245 ROWS OF DATA, INPUT COLUMN 6-7 IS OUTPUT\n",
    "inputs = df.iloc[0:1245,0:6].values\n",
    "inputs=np.array(inputs)\n",
    "scaler = MinMaxScaler(feature_range=(0,1))\n",
    "scaled_data = scaler.fit_transform(inputs)\n",
    "scaled_data = np.array(scaled_data)\n",
    "scaler2 = MinMaxScaler(feature_range=(0,1))\n",
    "scaled_data2 = scaler2.fit_transform(output)\n",
    "scaled_data2 = np.array(scaled_data2)\n",
    "scaled_data = np.reshape(scaled_data,(scaled_data.shape[0],scaled_data.shape[1],1))\n",
    "X_train=scaled_data\n",
    "Y_train=scaled_data2"
   ]
  },
  {
   "cell_type": "code",
   "execution_count": 4,
   "id": "cloudy-quantity",
   "metadata": {},
   "outputs": [],
   "source": [
    "# Part 2 - Building the RNN\n",
    "# Importing the Keras libraries and packages\n",
    "from keras.models import Sequential\n",
    "from keras.layers import Dense\n",
    "from keras.layers import LSTM\n",
    "from keras.layers import Dropout"
   ]
  },
  {
   "cell_type": "code",
   "execution_count": null,
   "id": "premium-vessel",
   "metadata": {},
   "outputs": [],
   "source": [
    "# Initialising the RNN\n",
    "regressor = Sequential()\n",
    "# Adding the first LSTM layer and some Dropout regularisation\n",
    "regressor.add(LSTM(units = 50, return_sequences = True, input_shape = (X_train.shape[1], 1)))\n",
    "regressor.add(Dropout(0.2))\n",
    "# Adding a second LSTM layer and some Dropout regularisation\n",
    "regressor.add(LSTM(units = 50, return_sequences = True))\n",
    "regressor.add(Dropout(0.2))\n",
    "# Adding a third LSTM layer and some Dropout regularisation\n",
    "regressor.add(LSTM(units = 50, return_sequences = True))\n",
    "regressor.add(Dropout(0.2))\n",
    "# Adding a fourth LSTM layer and some Dropout regularisation\n",
    "regressor.add(LSTM(units = 50))\n",
    "regressor.add(Dropout(0.2))\n",
    "# Adding the output layer\n",
    "regressor.add(Dense(units = 1))\n",
    "# Compiling the RNN\n",
    "regressor.compile(optimizer = 'adam', loss = 'mean_squared_error')\n",
    "# Fitting the RNN to the Training set\n",
    "regressor.fit(X_train, Y_train, epochs = 10, batch_size = 32) "
   ]
  },
  {
   "cell_type": "code",
   "execution_count": null,
   "id": "ideal-lottery",
   "metadata": {},
   "outputs": [],
   "source": [
    "# Part 3 - Making the predictions and visualising the results\n",
    "df99 = pd.read_csv ('AT Forecast Data.csv')\n",
    "Inp=df99.iloc[0:1245:,0:6].values\n",
    "sc = MinMaxScaler(feature_range = (0, 1))\n",
    "training_set_scaled99 = sc.fit_transform(Inp)\n",
    "df2 = pd.read_csv('AT Forecast Data.csv')\n",
    "inputs2 = df2.iloc[1245:1259,0:6].values\n",
    "X_test = np.array(inputs2)\n",
    "X_test = np.reshape(X_test, (X_test.shape[0], X_test.shape[1], 1))\n",
    "predicted_stock_price = regressor.predict(X_test)\n",
    "#predicted_stock_price = sc.inverse_transform(predicted_stock_price)\n",
    "#plt.plot(real_stock_price, color = 'red', label = 'Real Google Stock Price')\n"
   ]
  },
  {
   "cell_type": "code",
   "execution_count": null,
   "id": "failing-freight",
   "metadata": {},
   "outputs": [],
   "source": [
    "plt.plot(predicted_stock_price, color = 'blue', label = 'Predicted Google Stock Price')\n",
    "plt.title('Google Stock Price Prediction')\n",
    "plt.xlabel('Time')\n",
    "plt.ylabel('Google Stock Price')\n",
    "plt.legend()\n",
    "plt.show()"
   ]
  }
 ],
 "metadata": {
  "kernelspec": {
   "display_name": "Python 3",
   "language": "python",
   "name": "python3"
  },
  "language_info": {
   "codemirror_mode": {
    "name": "ipython",
    "version": 3
   },
   "file_extension": ".py",
   "mimetype": "text/x-python",
   "name": "python",
   "nbconvert_exporter": "python",
   "pygments_lexer": "ipython3",
   "version": "3.8.5"
  }
 },
 "nbformat": 4,
 "nbformat_minor": 5
}
